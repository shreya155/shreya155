{
 "cells": [
  {
   "cell_type": "code",
   "execution_count": 4,
   "metadata": {},
   "outputs": [
    {
     "name": "stdout",
     "output_type": "stream",
     "text": [
      "(11162, 7)\n"
     ]
    }
   ],
   "source": [
    "#using logistic regression\n",
    "import numpy as np\n",
    "import matplotlib.pyplot as plt\n",
    "import pandas as pd\n",
    "\n",
    "df = pd.read_csv ('C:\\\\Users\\\\shrey\\\\anaconda3\\\\bank.csv')\n",
    "print(df.shape)\n",
    "import warnings\n",
    "warnings.filterwarnings('ignore')\n",
    "%matplotlib inline"
   ]
  },
  {
   "cell_type": "code",
   "execution_count": 10,
   "metadata": {},
   "outputs": [],
   "source": [
    "from sklearn.preprocessing import LabelEncoder\n",
    "le= LabelEncoder()\n",
    "\n",
    "for it in range (7):\n",
    "    df.iloc[:,it]=le.fit_transform(df.iloc[:,it])"
   ]
  },
  {
   "cell_type": "code",
   "execution_count": 11,
   "metadata": {},
   "outputs": [
    {
     "name": "stdout",
     "output_type": "stream",
     "text": [
      "       age  job  marital  education  housing\n",
      "5822    35    9        1          0        0\n",
      "925     31    4        1          1        0\n",
      "6654    15    0        1          1        1\n",
      "9743    23    1        1          1        1\n",
      "2240    36    0        0          1        0\n",
      "...    ...  ...      ...        ...      ...\n",
      "4503    13    9        1          2        0\n",
      "10969   23    0        2          1        0\n",
      "8882    38    4        0          2        0\n",
      "10188   36    5        0          1        0\n",
      "1463    15    0        2          1        1\n",
      "\n",
      "[9487 rows x 5 columns]\n",
      "       age  job  marital  education  housing\n",
      "4096    23   10        2          2        0\n",
      "1705    11    9        2          1        0\n",
      "6016    34    6        0          1        1\n",
      "6444    28    9        1          1        0\n",
      "4023    29    6        1          2        0\n",
      "...    ...  ...      ...        ...      ...\n",
      "3271    45    9        1          1        0\n",
      "10596   24    1        1          0        1\n",
      "4204    37    9        1          2        0\n",
      "7770    13    1        1          1        1\n",
      "202     23    1        1          0        1\n",
      "\n",
      "[1675 rows x 5 columns]\n",
      "5822     0\n",
      "925      1\n",
      "6654     0\n",
      "9743     0\n",
      "2240     1\n",
      "        ..\n",
      "4503     1\n",
      "10969    0\n",
      "8882     0\n",
      "10188    0\n",
      "1463     1\n",
      "Name: deposit, Length: 9487, dtype: int32\n",
      "4096     1\n",
      "1705     1\n",
      "6016     0\n",
      "6444     0\n",
      "4023     1\n",
      "        ..\n",
      "3271     1\n",
      "10596    0\n",
      "4204     1\n",
      "7770     0\n",
      "202      1\n",
      "Name: deposit, Length: 1675, dtype: int32\n"
     ]
    }
   ],
   "source": [
    "i = df.iloc [:,:5]\n",
    "d = df.iloc [:,6]\n",
    "from sklearn.model_selection import train_test_split\n",
    "xtrain,xtest,ytrain,ytest=train_test_split(i,d,test_size=.15)\n",
    "print(xtrain)\n",
    "print(xtest)\n",
    "print(ytrain)\n",
    "print(ytest)"
   ]
  },
  {
   "cell_type": "code",
   "execution_count": 12,
   "metadata": {},
   "outputs": [
    {
     "name": "stdout",
     "output_type": "stream",
     "text": [
      "predicted y records:\n",
      "[1 1 0 ... 1 0 0]\n",
      "4096     1\n",
      "1705     1\n",
      "6016     0\n",
      "6444     0\n",
      "4023     1\n",
      "        ..\n",
      "3271     1\n",
      "10596    0\n",
      "4204     1\n",
      "7770     0\n",
      "202      1\n",
      "Name: deposit, Length: 1675, dtype: int32\n",
      "       age  job  marital  education  housing\n",
      "4096    23   10        2          2        0\n",
      "1705    11    9        2          1        0\n",
      "6016    34    6        0          1        1\n",
      "6444    28    9        1          1        0\n",
      "4023    29    6        1          2        0\n",
      "...    ...  ...      ...        ...      ...\n",
      "3271    45    9        1          1        0\n",
      "10596   24    1        1          0        1\n",
      "4204    37    9        1          2        0\n",
      "7770    13    1        1          1        1\n",
      "202     23    1        1          0        1\n",
      "\n",
      "[1675 rows x 5 columns]\n"
     ]
    }
   ],
   "source": [
    "from sklearn.linear_model import LogisticRegression\n",
    "LRclassifier=LogisticRegression()\n",
    "LRclassifier.fit(xtrain,ytrain)\n",
    "Prediction=LRclassifier.predict(xtest)\n",
    "print(\"predicted y records:\")\n",
    "print(Prediction)\n",
    "print(ytest)\n",
    "print(xtest)"
   ]
  },
  {
   "cell_type": "code",
   "execution_count": 13,
   "metadata": {},
   "outputs": [
    {
     "name": "stdout",
     "output_type": "stream",
     "text": [
      "0.6059701492537314\n"
     ]
    }
   ],
   "source": [
    "from sklearn.metrics import accuracy_score\n",
    "print(accuracy_score(ytest,Prediction))"
   ]
  },
  {
   "cell_type": "code",
   "execution_count": 14,
   "metadata": {},
   "outputs": [],
   "source": [
    "#using knn\n",
    "from sklearn.neighbors import KNeighborsClassifier\n",
    "knn=KNeighborsClassifier(n_neighbors=1)\n",
    "knn.fit(xtrain,ytrain)\n",
    "predict=knn.predict(xtest)"
   ]
  },
  {
   "cell_type": "code",
   "execution_count": 15,
   "metadata": {},
   "outputs": [
    {
     "data": {
      "text/plain": [
       "0.5588059701492537"
      ]
     },
     "execution_count": 15,
     "metadata": {},
     "output_type": "execute_result"
    }
   ],
   "source": [
    "from sklearn.metrics import accuracy_score\n",
    "accuracy_score(ytest,predict)"
   ]
  },
  {
   "cell_type": "code",
   "execution_count": 17,
   "metadata": {},
   "outputs": [
    {
     "data": {
      "text/plain": [
       "array([1, 1, 0, ..., 1, 0, 0])"
      ]
     },
     "execution_count": 17,
     "metadata": {},
     "output_type": "execute_result"
    }
   ],
   "source": [
    "from sklearn.tree import DecisionTreeClassifier\n",
    "\n",
    "decision_tree = DecisionTreeClassifier(criterion = \"entropy\", random_state = 100,max_depth=2)\n",
    "decision_tree.fit(xtrain, ytrain)\n",
    "predictValues =decision_tree.predict(xtest)\n",
    "\n",
    "predictValues"
   ]
  },
  {
   "cell_type": "code",
   "execution_count": 18,
   "metadata": {},
   "outputs": [
    {
     "data": {
      "image/svg+xml": [
       "<svg xmlns=\"http://www.w3.org/2000/svg\" xmlns:xlink=\"http://www.w3.org/1999/xlink\" width=\"598pt\" height=\"269pt\" viewBox=\"0.00 0.00 598.00 269.00\">\n",
       "<g id=\"graph0\" class=\"graph\" transform=\"scale(1 1) rotate(0) translate(4 265)\">\n",
       "<title>Tree</title>\n",
       "<polygon fill=\"white\" stroke=\"transparent\" points=\"-4,4 -4,-265 594,-265 594,4 -4,4\"/>\n",
       "<!-- 0 -->\n",
       "<g id=\"node1\" class=\"node\">\n",
       "<title>0</title>\n",
       "<path fill=\"#fcf2eb\" stroke=\"black\" d=\"M365,-261C365,-261 243,-261 243,-261 237,-261 231,-255 231,-249 231,-249 231,-205 231,-205 231,-199 237,-193 243,-193 243,-193 365,-193 365,-193 371,-193 377,-199 377,-205 377,-205 377,-249 377,-249 377,-255 371,-261 365,-261\"/>\n",
       "<text text-anchor=\"middle\" x=\"304\" y=\"-245.8\" font-family=\"Helvetica,sans-Serif\" font-size=\"14.00\">housing &lt;= 0.5</text>\n",
       "<text text-anchor=\"middle\" x=\"304\" y=\"-230.8\" font-family=\"Helvetica,sans-Serif\" font-size=\"14.00\">entropy = 0.998</text>\n",
       "<text text-anchor=\"middle\" x=\"304\" y=\"-215.8\" font-family=\"Helvetica,sans-Serif\" font-size=\"14.00\">samples = 9487</text>\n",
       "<text text-anchor=\"middle\" x=\"304\" y=\"-200.8\" font-family=\"Helvetica,sans-Serif\" font-size=\"14.00\">value = [4996, 4491]</text>\n",
       "</g>\n",
       "<!-- 1 -->\n",
       "<g id=\"node2\" class=\"node\">\n",
       "<title>1</title>\n",
       "<path fill=\"#cfe7f9\" stroke=\"black\" d=\"M283,-157C283,-157 161,-157 161,-157 155,-157 149,-151 149,-145 149,-145 149,-101 149,-101 149,-95 155,-89 161,-89 161,-89 283,-89 283,-89 289,-89 295,-95 295,-101 295,-101 295,-145 295,-145 295,-151 289,-157 283,-157\"/>\n",
       "<text text-anchor=\"middle\" x=\"222\" y=\"-141.8\" font-family=\"Helvetica,sans-Serif\" font-size=\"14.00\">age &lt;= 42.5</text>\n",
       "<text text-anchor=\"middle\" x=\"222\" y=\"-126.8\" font-family=\"Helvetica,sans-Serif\" font-size=\"14.00\">entropy = 0.986</text>\n",
       "<text text-anchor=\"middle\" x=\"222\" y=\"-111.8\" font-family=\"Helvetica,sans-Serif\" font-size=\"14.00\">samples = 5025</text>\n",
       "<text text-anchor=\"middle\" x=\"222\" y=\"-96.8\" font-family=\"Helvetica,sans-Serif\" font-size=\"14.00\">value = [2166, 2859]</text>\n",
       "</g>\n",
       "<!-- 0&#45;&gt;1 -->\n",
       "<g id=\"edge1\" class=\"edge\">\n",
       "<title>0-&gt;1</title>\n",
       "<path fill=\"none\" stroke=\"black\" d=\"M277.38,-192.88C270.29,-184.07 262.54,-174.43 255.15,-165.24\"/>\n",
       "<polygon fill=\"black\" stroke=\"black\" points=\"257.76,-162.9 248.77,-157.3 252.31,-167.29 257.76,-162.9\"/>\n",
       "<text text-anchor=\"middle\" x=\"246.07\" y=\"-178.45\" font-family=\"Helvetica,sans-Serif\" font-size=\"14.00\">True</text>\n",
       "</g>\n",
       "<!-- 4 -->\n",
       "<g id=\"node5\" class=\"node\">\n",
       "<title>4</title>\n",
       "<path fill=\"#f4caab\" stroke=\"black\" d=\"M447,-157C447,-157 325,-157 325,-157 319,-157 313,-151 313,-145 313,-145 313,-101 313,-101 313,-95 319,-89 325,-89 325,-89 447,-89 447,-89 453,-89 459,-95 459,-101 459,-101 459,-145 459,-145 459,-151 453,-157 447,-157\"/>\n",
       "<text text-anchor=\"middle\" x=\"386\" y=\"-141.8\" font-family=\"Helvetica,sans-Serif\" font-size=\"14.00\">age &lt;= 42.5</text>\n",
       "<text text-anchor=\"middle\" x=\"386\" y=\"-126.8\" font-family=\"Helvetica,sans-Serif\" font-size=\"14.00\">entropy = 0.947</text>\n",
       "<text text-anchor=\"middle\" x=\"386\" y=\"-111.8\" font-family=\"Helvetica,sans-Serif\" font-size=\"14.00\">samples = 4462</text>\n",
       "<text text-anchor=\"middle\" x=\"386\" y=\"-96.8\" font-family=\"Helvetica,sans-Serif\" font-size=\"14.00\">value = [2830, 1632]</text>\n",
       "</g>\n",
       "<!-- 0&#45;&gt;4 -->\n",
       "<g id=\"edge4\" class=\"edge\">\n",
       "<title>0-&gt;4</title>\n",
       "<path fill=\"none\" stroke=\"black\" d=\"M330.62,-192.88C337.71,-184.07 345.46,-174.43 352.85,-165.24\"/>\n",
       "<polygon fill=\"black\" stroke=\"black\" points=\"355.69,-167.29 359.23,-157.3 350.24,-162.9 355.69,-167.29\"/>\n",
       "<text text-anchor=\"middle\" x=\"361.93\" y=\"-178.45\" font-family=\"Helvetica,sans-Serif\" font-size=\"14.00\">False</text>\n",
       "</g>\n",
       "<!-- 2 -->\n",
       "<g id=\"node3\" class=\"node\">\n",
       "<title>2</title>\n",
       "<path fill=\"#dfeffb\" stroke=\"black\" d=\"M134,-53C134,-53 12,-53 12,-53 6,-53 0,-47 0,-41 0,-41 0,-12 0,-12 0,-6 6,0 12,0 12,0 134,0 134,0 140,0 146,-6 146,-12 146,-12 146,-41 146,-41 146,-47 140,-53 134,-53\"/>\n",
       "<text text-anchor=\"middle\" x=\"73\" y=\"-37.8\" font-family=\"Helvetica,sans-Serif\" font-size=\"14.00\">entropy = 0.994</text>\n",
       "<text text-anchor=\"middle\" x=\"73\" y=\"-22.8\" font-family=\"Helvetica,sans-Serif\" font-size=\"14.00\">samples = 4549</text>\n",
       "<text text-anchor=\"middle\" x=\"73\" y=\"-7.8\" font-family=\"Helvetica,sans-Serif\" font-size=\"14.00\">value = [2074, 2475]</text>\n",
       "</g>\n",
       "<!-- 1&#45;&gt;2 -->\n",
       "<g id=\"edge2\" class=\"edge\">\n",
       "<title>1-&gt;2</title>\n",
       "<path fill=\"none\" stroke=\"black\" d=\"M169.89,-88.95C154.45,-79.16 137.61,-68.48 122.35,-58.8\"/>\n",
       "<polygon fill=\"black\" stroke=\"black\" points=\"123.9,-55.64 113.58,-53.24 120.15,-61.55 123.9,-55.64\"/>\n",
       "</g>\n",
       "<!-- 3 -->\n",
       "<g id=\"node4\" class=\"node\">\n",
       "<title>3</title>\n",
       "<path fill=\"#68b4eb\" stroke=\"black\" d=\"M274,-53C274,-53 176,-53 176,-53 170,-53 164,-47 164,-41 164,-41 164,-12 164,-12 164,-6 170,0 176,0 176,0 274,0 274,0 280,0 286,-6 286,-12 286,-12 286,-41 286,-41 286,-47 280,-53 274,-53\"/>\n",
       "<text text-anchor=\"middle\" x=\"225\" y=\"-37.8\" font-family=\"Helvetica,sans-Serif\" font-size=\"14.00\">entropy = 0.708</text>\n",
       "<text text-anchor=\"middle\" x=\"225\" y=\"-22.8\" font-family=\"Helvetica,sans-Serif\" font-size=\"14.00\">samples = 476</text>\n",
       "<text text-anchor=\"middle\" x=\"225\" y=\"-7.8\" font-family=\"Helvetica,sans-Serif\" font-size=\"14.00\">value = [92, 384]</text>\n",
       "</g>\n",
       "<!-- 1&#45;&gt;3 -->\n",
       "<g id=\"edge3\" class=\"edge\">\n",
       "<title>1-&gt;3</title>\n",
       "<path fill=\"none\" stroke=\"black\" d=\"M223.05,-88.95C223.31,-80.72 223.59,-71.85 223.86,-63.48\"/>\n",
       "<polygon fill=\"black\" stroke=\"black\" points=\"227.36,-63.34 224.18,-53.24 220.37,-63.12 227.36,-63.34\"/>\n",
       "</g>\n",
       "<!-- 5 -->\n",
       "<g id=\"node6\" class=\"node\">\n",
       "<title>5</title>\n",
       "<path fill=\"#f4c8a9\" stroke=\"black\" d=\"M444,-53C444,-53 322,-53 322,-53 316,-53 310,-47 310,-41 310,-41 310,-12 310,-12 310,-6 316,0 322,0 322,0 444,0 444,0 450,0 456,-6 456,-12 456,-12 456,-41 456,-41 456,-47 450,-53 444,-53\"/>\n",
       "<text text-anchor=\"middle\" x=\"383\" y=\"-37.8\" font-family=\"Helvetica,sans-Serif\" font-size=\"14.00\">entropy = 0.944</text>\n",
       "<text text-anchor=\"middle\" x=\"383\" y=\"-22.8\" font-family=\"Helvetica,sans-Serif\" font-size=\"14.00\">samples = 4418</text>\n",
       "<text text-anchor=\"middle\" x=\"383\" y=\"-7.8\" font-family=\"Helvetica,sans-Serif\" font-size=\"14.00\">value = [2823, 1595]</text>\n",
       "</g>\n",
       "<!-- 4&#45;&gt;5 -->\n",
       "<g id=\"edge5\" class=\"edge\">\n",
       "<title>4-&gt;5</title>\n",
       "<path fill=\"none\" stroke=\"black\" d=\"M384.95,-88.95C384.69,-80.72 384.41,-71.85 384.14,-63.48\"/>\n",
       "<polygon fill=\"black\" stroke=\"black\" points=\"387.63,-63.12 383.82,-53.24 380.64,-63.34 387.63,-63.12\"/>\n",
       "</g>\n",
       "<!-- 6 -->\n",
       "<g id=\"node7\" class=\"node\">\n",
       "<title>6</title>\n",
       "<path fill=\"#5eb0ea\" stroke=\"black\" d=\"M578,-53C578,-53 486,-53 486,-53 480,-53 474,-47 474,-41 474,-41 474,-12 474,-12 474,-6 480,0 486,0 486,0 578,0 578,0 584,0 590,-6 590,-12 590,-12 590,-41 590,-41 590,-47 584,-53 578,-53\"/>\n",
       "<text text-anchor=\"middle\" x=\"532\" y=\"-37.8\" font-family=\"Helvetica,sans-Serif\" font-size=\"14.00\">entropy = 0.632</text>\n",
       "<text text-anchor=\"middle\" x=\"532\" y=\"-22.8\" font-family=\"Helvetica,sans-Serif\" font-size=\"14.00\">samples = 44</text>\n",
       "<text text-anchor=\"middle\" x=\"532\" y=\"-7.8\" font-family=\"Helvetica,sans-Serif\" font-size=\"14.00\">value = [7, 37]</text>\n",
       "</g>\n",
       "<!-- 4&#45;&gt;6 -->\n",
       "<g id=\"edge6\" class=\"edge\">\n",
       "<title>4-&gt;6</title>\n",
       "<path fill=\"none\" stroke=\"black\" d=\"M437.06,-88.95C452.19,-79.16 468.69,-68.48 483.64,-58.8\"/>\n",
       "<polygon fill=\"black\" stroke=\"black\" points=\"485.74,-61.61 492.24,-53.24 481.94,-55.73 485.74,-61.61\"/>\n",
       "</g>\n",
       "</g>\n",
       "</svg>"
      ],
      "text/plain": [
       "<IPython.core.display.SVG object>"
      ]
     },
     "metadata": {},
     "output_type": "display_data"
    }
   ],
   "source": [
    "#using decision tree\n",
    "data_feature_names = i.columns\n",
    "            \n",
    "\n",
    "from sklearn.tree import export_graphviz\n",
    "from sklearn import tree\n",
    "from graphviz import Source\n",
    "from IPython.display import SVG\n",
    "from IPython.display import display\n",
    "\n",
    "graph = Source(tree.export_graphviz(decision_tree, out_file=None\n",
    "    , feature_names=data_feature_names\n",
    "   , filled = True,rounded=True))\n",
    "\n",
    "\n",
    "display(SVG(graph.pipe(format='svg')))"
   ]
  }
 ],
 "metadata": {
  "kernelspec": {
   "display_name": "Python 3",
   "language": "python",
   "name": "python3"
  },
  "language_info": {
   "codemirror_mode": {
    "name": "ipython",
    "version": 3
   },
   "file_extension": ".py",
   "mimetype": "text/x-python",
   "name": "python",
   "nbconvert_exporter": "python",
   "pygments_lexer": "ipython3",
   "version": "3.8.5"
  }
 },
 "nbformat": 4,
 "nbformat_minor": 4
}

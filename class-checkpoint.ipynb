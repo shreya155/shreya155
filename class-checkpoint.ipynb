{
 "cells": [
  {
   "cell_type": "code",
   "execution_count": 2,
   "metadata": {},
   "outputs": [
    {
     "name": "stdout",
     "output_type": "stream",
     "text": [
      "[0, 1, 2, 3, 4, 5, 7, 8]\n"
     ]
    }
   ],
   "source": [
    "list = [0,1,2,3,4,5,6,7,8,9]\n",
    "del (list[6])\n",
    "del (list[8])\n",
    "print (list)"
   ]
  },
  {
   "cell_type": "code",
   "execution_count": 4,
   "metadata": {},
   "outputs": [
    {
     "name": "stdout",
     "output_type": "stream",
     "text": [
      "[6, 4, 5, 1]\n"
     ]
    }
   ],
   "source": [
    "list = [1,4,5,6]\n",
    "del (list[0])\n",
    "del (list[2])\n",
    "list.append(1)\n",
    "list.insert(0,6)\n",
    "print (list)"
   ]
  },
  {
   "cell_type": "code",
   "execution_count": 5,
   "metadata": {},
   "outputs": [
    {
     "name": "stdout",
     "output_type": "stream",
     "text": [
      "['abc', 'is', 'name', 'My']\n"
     ]
    }
   ],
   "source": [
    "list = ['My','name','is','abc']\n",
    "list.reverse()\n",
    "print (list)"
   ]
  },
  {
   "cell_type": "code",
   "execution_count": 6,
   "metadata": {},
   "outputs": [
    {
     "name": "stdout",
     "output_type": "stream",
     "text": [
      "[5, 4, 3, 2, 1]\n"
     ]
    }
   ],
   "source": [
    "list = [1,2,3,4,5]\n",
    "list.reverse()\n",
    "print (list)"
   ]
  },
  {
   "cell_type": "code",
   "execution_count": 7,
   "metadata": {},
   "outputs": [
    {
     "name": "stdout",
     "output_type": "stream",
     "text": [
      "Number of even numbers : 4\n",
      "Number of odd numbers : 5\n"
     ]
    }
   ],
   "source": [
    "numbers = (1, 2, 3, 4, 5, 6, 7, 8, 9) # Declaring the tuple\n",
    "count_odd = 0\n",
    "count_even = 0\n",
    "for x in numbers:\n",
    "        if not x % 2:\n",
    "    \t     count_even+=1\n",
    "        else:\n",
    "    \t     count_odd+=1\n",
    "print(\"Number of even numbers :\",count_even)\n",
    "print(\"Number of odd numbers :\",count_odd)"
   ]
  },
  {
   "cell_type": "code",
   "execution_count": 17,
   "metadata": {},
   "outputs": [
    {
     "name": "stdout",
     "output_type": "stream",
     "text": [
      "Modified string after removing  6 th character \n",
      "I love himachal\n"
     ]
    }
   ],
   "source": [
    "str = \"I loves himachal\"\n",
    "modified_str = '' \n",
    "  \n",
    "# iterating over the string \n",
    "for char in range(0, len(str)): \n",
    "  \n",
    "    # checking if the char index is equivalent to n \n",
    "    if(char != 6): \n",
    "         # append original string character \n",
    "        modified_str += str[char] \n",
    "        \n",
    "print(\"Modified string after removing \", 6, \"th character \") \n",
    "print(modified_str)"
   ]
  },
  {
   "cell_type": "code",
   "execution_count": 31,
   "metadata": {},
   "outputs": [
    {
     "name": "stdout",
     "output_type": "stream",
     "text": [
      "Actual String:  Python is great\n",
      "String coverted to list : ['Python', 'is', 'great']\n"
     ]
    }
   ],
   "source": [
    "#given string\n",
    "string1=\"Python is great\"\n",
    " \n",
    "#printing the string\n",
    "print(\"Actual String: \",string1) \n",
    "   \n",
    "print(\"String coverted to list :\",string1.split()) \n",
    "#prints the list given by split()"
   ]
  },
  {
   "cell_type": "code",
   "execution_count": 36,
   "metadata": {},
   "outputs": [
    {
     "name": "stdout",
     "output_type": "stream",
     "text": [
      "15\n",
      "5\n"
     ]
    }
   ],
   "source": [
    "list = [1,2,3,4,5]\n",
    "print (sum(list))\n",
    "print (max(list))"
   ]
  },
  {
   "cell_type": "code",
   "execution_count": 37,
   "metadata": {},
   "outputs": [
    {
     "name": "stdout",
     "output_type": "stream",
     "text": [
      "{2, 5}\n"
     ]
    }
   ],
   "source": [
    "a=[2,9,4,5]\n",
    "b=[3,5,7,2]\n",
    "print(set(a).intersection(b))"
   ]
  },
  {
   "cell_type": "code",
   "execution_count": 18,
   "metadata": {},
   "outputs": [
    {
     "name": "stdout",
     "output_type": "stream",
     "text": [
      "abcd\n"
     ]
    }
   ],
   "source": [
    "s = ['a', 'b', 'c', 'd']\n",
    "str1 =''.join(s)\n",
    "print(str1)"
   ]
  },
  {
   "cell_type": "code",
   "execution_count": 19,
   "metadata": {},
   "outputs": [],
   "source": [
    "def add(a,b):\n",
    "    print(\"sum\",a+b)\n",
    "    \n",
    "    \n",
    "    add(99,10)\n",
    "    \n",
    "    \n",
    "    \n"
   ]
  },
  {
   "cell_type": "code",
   "execution_count": 2,
   "metadata": {},
   "outputs": [],
   "source": [
    "import pandas as pd\n",
    "df = pd.read_csv('C:\\\\Users\\\\shrey\\\\anaconda3\\\\ratings.csv')"
   ]
  },
  {
   "cell_type": "code",
   "execution_count": 3,
   "metadata": {},
   "outputs": [
    {
     "name": "stdout",
     "output_type": "stream",
     "text": [
      "         rating\n",
      "book_id        \n",
      "1           100\n",
      "2           100\n",
      "3           100\n",
      "4           100\n",
      "5           100\n",
      "...         ...\n",
      "9996         98\n",
      "9997         89\n",
      "9998         95\n",
      "9999         99\n",
      "10000        96\n",
      "\n",
      "[10000 rows x 1 columns]\n"
     ]
    }
   ],
   "source": [
    "test = df.groupby(['book_id'])[[\"rating\"]].count()\n",
    "print(test)"
   ]
  },
  {
   "cell_type": "code",
   "execution_count": 49,
   "metadata": {},
   "outputs": [
    {
     "name": "stdout",
     "output_type": "stream",
     "text": [
      "       userid  reputation          displayname                loc   age\n",
      "0      382275        2792                Steve       West Linn OR  48.0\n",
      "1      382276          21                Yoshi      United States   NaN\n",
      "2      382277          21                Nancy                NaN   NaN\n",
      "3      382278          39           hanguofeng                NaN   NaN\n",
      "4      382279         612           jalagrange                NaN  28.0\n",
      "...       ...         ...                  ...                ...   ...\n",
      "49995  118593         790  Tautrimas Pajarskas  Vilnius Lithuania  25.0\n",
      "49996  118597        1024                 GivP   San Francisco CA   NaN\n",
      "49997  118605          86               Balaji              India  31.0\n",
      "49998  118606        2604               Lohrun       Paris France  31.0\n",
      "49999  118608         300                  qff                NaN   NaN\n",
      "\n",
      "[50000 rows x 5 columns]\n",
      "average:  35.263352397712275\n"
     ]
    }
   ],
   "source": [
    "df1=pd.read_csv('C:\\\\Users\\\\shrey\\\\anaconda3\\\\userss.csv')\n",
    "print(df1)\n",
    "print(\"average: \",df1[\"age\"].mean())"
   ]
  },
  {
   "cell_type": "code",
   "execution_count": 92,
   "metadata": {},
   "outputs": [
    {
     "name": "stdout",
     "output_type": "stream",
     "text": [
      "       userid        id\n",
      "0      134554  15494835\n",
      "1       11480  15494875\n",
      "2      104891  15494879\n",
      "3       29407  15494920\n",
      "4       64174  15494921\n",
      "...       ...       ...\n",
      "49995   44309  16033697\n",
      "49996  139985  16033699\n",
      "49997    6782  16033700\n",
      "49998   68172  16033702\n",
      "49999   22656  16033706\n",
      "\n",
      "[50000 rows x 2 columns]\n"
     ]
    }
   ],
   "source": [
    "df6=pd.read_csv('C:\\\\Users\\\\shrey\\\\anaconda3\\\\comments.csv')\n",
    "print(df6)"
   ]
  },
  {
   "cell_type": "code",
   "execution_count": 17,
   "metadata": {},
   "outputs": [
    {
     "name": "stdout",
     "output_type": "stream",
     "text": [
      "          id  post_type      creationdate  score  viewcount  userid  \\\n",
      "0          4          1  31-07-2008 21:42    222    13150.0       8   \n",
      "1          6          1  31-07-2008 22:08     98     6691.0       9   \n",
      "2          7          2  31-07-2008 22:17    176        NaN       9   \n",
      "3          8          1  31-07-2008 23:33     30     2432.0       9   \n",
      "4          9          1  31-07-2008 23:40    582   133946.0       1   \n",
      "...      ...        ...               ...    ...        ...     ...   \n",
      "49995  79673          2  17-09-2008 03:31      2        NaN   10778   \n",
      "49996  79674          2  17-09-2008 03:31      1        NaN   13116   \n",
      "49997  79675          2  17-09-2008 03:31      2        NaN   14841   \n",
      "49998  79676          2  17-09-2008 03:32      9        NaN   13564   \n",
      "49999  79677          1  17-09-2008 03:32     16     9817.0     813   \n",
      "\n",
      "                                                   title answercount  \\\n",
      "0      When setting a form's opacity should I use a d...          13   \n",
      "1      Why doesn't the percentage width child in abso...           5   \n",
      "2                                                    NaN         NaN   \n",
      "3              Tool for Converting Visual J# code to C#?           3   \n",
      "4                       How do I calculate someone's age          37   \n",
      "...                                                  ...         ...   \n",
      "49995                                                NaN         NaN   \n",
      "49996                                                NaN         NaN   \n",
      "49997                                                NaN         NaN   \n",
      "49998                                                NaN         NaN   \n",
      "49999        What's the best way to do fixed-point math?           9   \n",
      "\n",
      "      commentcount Unnamed: 9 Unnamed: 10 Unnamed: 11  Unnamed: 12  \n",
      "0               34        NaN         NaN         NaN          NaN  \n",
      "1               12        NaN         NaN         NaN          NaN  \n",
      "2                0        NaN         NaN         NaN          NaN  \n",
      "3                0        NaN         NaN         NaN          NaN  \n",
      "4                4        NaN         NaN         NaN          NaN  \n",
      "...            ...        ...         ...         ...          ...  \n",
      "49995          NaN        NaN         NaN         NaN          NaN  \n",
      "49996          NaN        NaN         NaN         NaN          NaN  \n",
      "49997            2        NaN         NaN         NaN          NaN  \n",
      "49998          NaN        NaN         NaN         NaN          NaN  \n",
      "49999            1        NaN         NaN         NaN          NaN  \n",
      "\n",
      "[50000 rows x 13 columns]\n"
     ]
    }
   ],
   "source": [
    "df2=pd.read_csv('C:\\\\Users\\\\shrey\\\\anaconda3\\\\post.csv')\n",
    "print(df2)"
   ]
  },
  {
   "cell_type": "code",
   "execution_count": 53,
   "metadata": {
    "scrolled": false
   },
   "outputs": [
    {
     "name": "stdout",
     "output_type": "stream",
     "text": [
      "       userid  reputation         displayname             loc   age       id  \\\n",
      "0           1       32882         Jeff Atwood   El Cerrito CA  44.0        9   \n",
      "1           1       32882         Jeff Atwood   El Cerrito CA  44.0       11   \n",
      "2           1       32882         Jeff Atwood   El Cerrito CA  44.0       12   \n",
      "3           1       32882         Jeff Atwood   El Cerrito CA  44.0      986   \n",
      "4           1       32882         Jeff Atwood   El Cerrito CA  44.0     1016   \n",
      "...       ...         ...                 ...             ...   ...      ...   \n",
      "49819  117775        4762  Waleed Al-Balooshi        Michigan  33.0  2098710   \n",
      "49820  117775        4762  Waleed Al-Balooshi        Michigan  33.0  2098748   \n",
      "49821  118091        8140              runmad  Toronto Canada   NaN  2098895   \n",
      "49822  118464        3083               Ariel             NaN   NaN  2097867   \n",
      "49823  118547        6062             Jourkey             NaN   NaN  2099048   \n",
      "\n",
      "       post_type      creationdate  score  viewcount  \\\n",
      "0              1  31-07-2008 23:40    582   133946.0   \n",
      "1              1  31-07-2008 23:55    639    59517.0   \n",
      "2              2  31-07-2008 23:56    186        NaN   \n",
      "3              2   04-08-2008 2:45      3        NaN   \n",
      "4              2   04-08-2008 4:31      8        NaN   \n",
      "...          ...               ...    ...        ...   \n",
      "49819          2  20-01-2010 02:36      2        NaN   \n",
      "49820          2  20-01-2010 02:53      4        NaN   \n",
      "49821          1  20-01-2010 03:44      2     4453.0   \n",
      "49822          2  19-01-2010 22:58      0        NaN   \n",
      "49823          1  20-01-2010 04:31      1      834.0   \n",
      "\n",
      "                                                  title answercount  \\\n",
      "0                      How do I calculate someone's age          37   \n",
      "1                     How do I calculate relative time?          28   \n",
      "2                                                   NaN         NaN   \n",
      "3                                                   NaN         NaN   \n",
      "4                                                   NaN         NaN   \n",
      "...                                                 ...         ...   \n",
      "49819                                               NaN         NaN   \n",
      "49820                                               NaN         NaN   \n",
      "49821  NSNumber numberWithInt: returns strange numbers?           1   \n",
      "49822                                               NaN         NaN   \n",
      "49823           Drupal: Fivestar Block with voting axis           1   \n",
      "\n",
      "      commentcount Unnamed: 9 Unnamed: 10 Unnamed: 11  Unnamed: 12  \n",
      "0                4        NaN         NaN         NaN          NaN  \n",
      "1                9        NaN         NaN         NaN          NaN  \n",
      "2               11        NaN         NaN         NaN          NaN  \n",
      "3              NaN        NaN         NaN         NaN          NaN  \n",
      "4              NaN        NaN         NaN         NaN          NaN  \n",
      "...            ...        ...         ...         ...          ...  \n",
      "49819          NaN        NaN         NaN         NaN          NaN  \n",
      "49820            3        NaN         NaN         NaN          NaN  \n",
      "49821          NaN        NaN         NaN         NaN          NaN  \n",
      "49822            1        NaN         NaN         NaN          NaN  \n",
      "49823          NaN        NaN         NaN         NaN          NaN  \n",
      "\n",
      "[49824 rows x 17 columns]\n"
     ]
    }
   ],
   "source": [
    "df3=pd.merge(df1,df2,on='userid',how='inner')\n",
    "df4=print(df3)"
   ]
  },
  {
   "cell_type": "code",
   "execution_count": 71,
   "metadata": {},
   "outputs": [
    {
     "data": {
      "text/plain": [
       "userid                    118547\n",
       "reputation                736381\n",
       "displayname      Željko Živković\n",
       "age                         94.0\n",
       "id                       2099157\n",
       "post_type                      2\n",
       "creationdate    31-08-2008 23:59\n",
       "score                       2085\n",
       "viewcount               758492.0\n",
       "Unnamed: 12                  8.0\n",
       "dtype: object"
      ]
     },
     "execution_count": 71,
     "metadata": {},
     "output_type": "execute_result"
    }
   ],
   "source": [
    "df3.max()"
   ]
  },
  {
   "cell_type": "code",
   "execution_count": 90,
   "metadata": {},
   "outputs": [
    {
     "name": "stdout",
     "output_type": "stream",
     "text": [
      "            post_type\n",
      "reputation           \n",
      "736381              1\n"
     ]
    }
   ],
   "source": [
    "import pandas as pd\n",
    "df_filtered = df3[(df3.reputation == 736381)]\n",
    "print(df_filtered.groupby([\"reputation\"])[['post_type']].count())"
   ]
  },
  {
   "cell_type": "code",
   "execution_count": 93,
   "metadata": {},
   "outputs": [
    {
     "name": "stdout",
     "output_type": "stream",
     "text": [
      "       post_type\n",
      "id              \n",
      "25969          1\n"
     ]
    }
   ],
   "source": [
    "df_filtered = df3[(df3.viewcount == 758492)]\n",
    "print(df_filtered.groupby([\"id\"])[['post_type']].count())"
   ]
  },
  {
   "cell_type": "code",
   "execution_count": null,
   "metadata": {},
   "outputs": [],
   "source": []
  }
 ],
 "metadata": {
  "kernelspec": {
   "display_name": "Python 3",
   "language": "python",
   "name": "python3"
  },
  "language_info": {
   "codemirror_mode": {
    "name": "ipython",
    "version": 3
   },
   "file_extension": ".py",
   "mimetype": "text/x-python",
   "name": "python",
   "nbconvert_exporter": "python",
   "pygments_lexer": "ipython3",
   "version": "3.8.5"
  }
 },
 "nbformat": 4,
 "nbformat_minor": 4
}

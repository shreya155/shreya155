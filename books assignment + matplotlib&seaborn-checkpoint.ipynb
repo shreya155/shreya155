{
 "cells": [
  {
   "cell_type": "code",
   "execution_count": null,
   "metadata": {},
   "outputs": [],
   "source": [
    "import pandas as pd\n",
    "import matplotlib.pyplot as plt\n",
    "df=pd.read_csv(\"C:\\\\Users\\\\shrey\\\\anaconda3\\\\BX-Book.csv\")\n",
    "df2=pd.read_csv(\"C:\\\\Users\\\\shrey\\\\anaconda3\\\\BX-Rating.csv\")"
   ]
  },
  {
   "cell_type": "code",
   "execution_count": null,
   "metadata": {},
   "outputs": [],
   "source": [
    "df['Year-Of-Publication']= pd.to_numeric(df['Year-Of-Publication'],errors=\"coerce\")\n",
    "df9=df['Year-Of-Publication'].value_counts().sort_values(ascending = False)\n",
    "print(df9)\n",
    "\n",
    "plt.bar(df9.index,df9.values)\n",
    "plt.xlabel('Year-Of-Publication')\n",
    "plt.ylabel(' No of books')"
   ]
  },
  {
   "cell_type": "code",
   "execution_count": null,
   "metadata": {},
   "outputs": [],
   "source": [
    "df['Year-Of-Publication']= pd.to_numeric(df['Year-Of-Publication'],errors=\"coerce\")\n",
    "df1=(df.groupby([\"ISBN\"])[['Year-Of-Publication']].max())\n",
    "print(df1)\n",
    "plt.bar(df1.index,df1.values)\n",
    "plt.xlabel('ISBN ')\n",
    "plt.ylabel('Year-Of-Publication')"
   ]
  },
  {
   "cell_type": "code",
   "execution_count": null,
   "metadata": {},
   "outputs": [],
   "source": [
    "df3=pd.merge(df,df2,on='ISBN',how='outer')\n",
    "df4=df3[df3[\"Year-Of-Publication\"].str.contains('2002')==True]\n",
    "print(\"no. of books publishes in 2002 : :\",df4['Book-Rating'].value_counts())\n",
    "df7=df4['Book-Rating'].value_counts()\n",
    "plt.bar(df7.index,df7.values)\n",
    "plt.xlabel('Ratings')\n",
    "plt.ylabel(' No of books')"
   ]
  },
  {
   "cell_type": "code",
   "execution_count": null,
   "metadata": {},
   "outputs": [],
   "source": [
    "import numpy as np\n",
    "import pandas as pd\n",
    "df=pd.read_csv(\"C:\\\\Users\\\\shrey\\\\anaconda3\\\\BX-Book.csv\")\n",
    "a = np.array([df])\n",
    "print(a)"
   ]
  },
  {
   "cell_type": "code",
   "execution_count": null,
   "metadata": {},
   "outputs": [],
   "source": [
    "np.unique(a[:,3])"
   ]
  },
  {
   "cell_type": "code",
   "execution_count": null,
   "metadata": {},
   "outputs": [],
   "source": [
    "maxInColumns  = np.amax(a, axis=0)\n",
    "print(maxInColumns )"
   ]
  },
  {
   "cell_type": "code",
   "execution_count": null,
   "metadata": {},
   "outputs": [],
   "source": [
    "import matplotlib.pyplot as plt\n",
    "a = np.array([1,2,3])\n",
    "b = np.array([4,5,6])\n",
    "plt.plot(a,b)\n",
    "plt.ylabel('name')\n",
    "plt.xlabel('age')\n",
    "plt.show()\n"
   ]
  },
  {
   "cell_type": "code",
   "execution_count": null,
   "metadata": {},
   "outputs": [],
   "source": [
    "import matplotlib.pyplot as plt\n",
    "plt.plot ([3,5,7,9])\n",
    "plt.ylabel('hello')\n",
    "plt.show()"
   ]
  },
  {
   "cell_type": "code",
   "execution_count": null,
   "metadata": {},
   "outputs": [],
   "source": [
    "import matplotlib.pyplot as plt\n",
    "plt.scatter([1,2,3],[6,7,8])\n",
    "plt.show()\n"
   ]
  },
  {
   "cell_type": "code",
   "execution_count": null,
   "metadata": {},
   "outputs": [],
   "source": [
    "x = np.linspace(0,10,100)\n",
    "y = np.linspace(0,5,100)\n",
    "plt.plot(x,y,label='linear')\n",
    "plt.plot([1,2,3],[7,8,9],label='company1')\n",
    "plt.legend()\n",
    "plt.show()"
   ]
  },
  {
   "cell_type": "code",
   "execution_count": null,
   "metadata": {},
   "outputs": [],
   "source": [
    "plt.bar([1,3,5,7,9],[5,2,7,8,2],label='EG-1')\n",
    "plt.bar([2,4,6,8,10],[8,6,2,5,6],label='EG-2')\n",
    "plt.legend()\n",
    "plt.xlabel('bar number')\n",
    "plt.ylabel('bar height')\n",
    "plt.title('bar graph')"
   ]
  },
  {
   "cell_type": "code",
   "execution_count": null,
   "metadata": {},
   "outputs": [],
   "source": [
    "print(plt.style.available)\n"
   ]
  },
  {
   "cell_type": "code",
   "execution_count": null,
   "metadata": {},
   "outputs": [],
   "source": [
    "from matplotlib import style"
   ]
  },
  {
   "cell_type": "code",
   "execution_count": null,
   "metadata": {},
   "outputs": [],
   "source": [
    "style.use('seaborn-bright')\n",
    "plt.bar([1,3,5,7,9],[5,2,7,8,2],label='EG-1')\n",
    "plt.bar([2,4,6,8,10],[8,6,2,5,6],label='EG-2')\n",
    "plt.legend()\n",
    "plt.xlabel('bar number')\n",
    "plt.ylabel('bar height')\n",
    "plt.title('bar graph')"
   ]
  },
  {
   "cell_type": "code",
   "execution_count": null,
   "metadata": {},
   "outputs": [],
   "source": [
    "a=[7,8,8,6]\n",
    "activities = ['a','b','c','d']\n",
    "outside=(0.2,0.3,0.2,0.3)\n",
    "plt.pie(a, labels = activities, colors=['red','black','brown','purple'], startangle=90,explode=outside, shadow= True)\n",
    "plt.show()"
   ]
  },
  {
   "cell_type": "code",
   "execution_count": null,
   "metadata": {},
   "outputs": [],
   "source": [
    "days = [1,2,3,4,5,6,7]\n",
    "sleep = [8,7,6,9,10,7,8]\n",
    "eating = [3,2,3,2,3,2,1]\n",
    "working = [2,3,4,5,6,7,7]\n",
    "plt.stackplot(days,sleep,eating,working)\n",
    "plt.show()"
   ]
  },
  {
   "cell_type": "code",
   "execution_count": null,
   "metadata": {},
   "outputs": [],
   "source": [
    "activity = ['combing','napping','eating',]\n",
    "cat = ['sad','happy','sad']\n",
    "dog = ['happy','sad','sad']\n",
    "plt.plot(activity,dog,label='dog')\n",
    "plt.plot(activity,cat,label='cat')\n",
    "plt.legend()\n",
    "plt.show()"
   ]
  },
  {
   "cell_type": "code",
   "execution_count": null,
   "metadata": {},
   "outputs": [],
   "source": []
  }
 ],
 "metadata": {
  "kernelspec": {
   "display_name": "Python 3",
   "language": "python",
   "name": "python3"
  },
  "language_info": {
   "codemirror_mode": {
    "name": "ipython",
    "version": 3
   },
   "file_extension": ".py",
   "mimetype": "text/x-python",
   "name": "python",
   "nbconvert_exporter": "python",
   "pygments_lexer": "ipython3",
   "version": "3.8.5"
  }
 },
 "nbformat": 4,
 "nbformat_minor": 4
}
